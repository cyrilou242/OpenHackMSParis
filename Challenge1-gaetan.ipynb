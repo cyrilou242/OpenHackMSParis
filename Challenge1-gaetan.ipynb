{
 "cells": [
  {
   "cell_type": "code",
   "execution_count": 11,
   "metadata": {},
   "outputs": [
    {
     "name": "stdout",
     "output_type": "stream",
     "text": [
      "10116634x1038116_zm.jpeg  10300351x1076923_zm.jpeg  10331928x1043700_zm.jpeg\r\n",
      "10116634x1068361_zm.jpeg  10300351x1108394_zm.jpeg  10331928x1050984_zm.jpeg\r\n",
      "10116634x1072858_zm.jpeg  10300351x1128450_zm.jpeg  10331928x1072105_zm.jpeg\r\n",
      "101634.jpeg\t\t  10300351x1149781_zm.jpeg  10331928x1084272_zm.jpeg\r\n",
      "10184183x1012360_zm.jpeg  10300494x1012905_zm.jpeg  10331928x1084490_zm.jpeg\r\n",
      "10184183x1012905_zm.jpeg  10300494x1094207_zm.jpeg  10331929x1050984_zm.jpeg\r\n",
      "10184183x1068533_zm.jpeg  10300494x1108394_zm.jpeg  10331929x1125962_zm.jpeg\r\n",
      "10184183x1140536_zm.jpeg  10300494x1128450_zm.jpeg  10331929x1130244_zm.jpeg\r\n",
      "10184183x1140544_zm.jpeg  10300494x1149691_zm.jpeg  10331929x1150402_zm.jpeg\r\n",
      "10184184x1035919_zm.jpeg  10300495x1012905_zm.jpeg  10331929x1150915_zm.jpeg\r\n",
      "10184184x1036924_zm.jpeg  10300495x1108394_zm.jpeg  10332124x1121963_zm.jpeg\r\n",
      "10184184x1061637_zm.jpeg  10300495x1140836_zm.jpeg  10332124x1131592_zm.jpeg\r\n",
      "10184184x1120173_zm.jpeg  10300495x1149691_zm.jpeg  10332246x1046388_zm.jpeg\r\n",
      "10184184x1140528_zm.jpeg  10300495x1149856_zm.jpeg  10332246x1051050_zm.jpeg\r\n",
      "10184925x1012371_zm.jpeg  10300517x1012905_zm.jpeg  10332246x1131933_zm.jpeg\r\n",
      "10184925x1012905_zm.jpeg  10300517x1037423_zm.jpeg  10332294x1038816_zm.jpeg\r\n",
      "10184925x1094142_zm.jpeg  10300517x1108394_zm.jpeg  10332294x1058188_zm.jpeg\r\n",
      "10184925x1107866_zm.jpeg  10300517x1149780_zm.jpeg  10332294x1072105_zm.jpeg\r\n",
      "10185324x1011341_zm.jpeg  10300517x1149856_zm.jpeg  10332548x1051050_zm.jpeg\r\n",
      "10185324x1013303_zm.jpeg  10300522x1012905_zm.jpeg  10332548x1072105_zm.jpeg\r\n",
      "10185324x1016653_zm.jpeg  10300522x1044494_zm.jpeg  10332548x1106708_zm.jpeg\r\n",
      "10185324x1060609_zm.jpeg  10300522x1076923_zm.jpeg  10332548x1130184_zm.jpeg\r\n",
      "10185324x1130335_zm.jpeg  10300522x1108394_zm.jpeg  10332548x1162504_zm.jpeg\r\n",
      "10185325x1011131_zm.jpeg  10300522x1149778_zm.jpeg  10333985x1011887_zm.jpeg\r\n",
      "10185325x1011341_zm.jpeg  10301383x1012905_zm.jpeg  10333985x1012905_zm.jpeg\r\n",
      "10185325x1051972_zm.jpeg  10301383x1037294_zm.jpeg  10333985x1013457_zm.jpeg\r\n",
      "10185325x1094992_zm.jpeg  10301383x1037298_zm.jpeg  10333985x1040165_zm.jpeg\r\n",
      "10185325x1113773_zm.jpeg  10302305x1110654_zm.jpeg  10333985x1116117_zm.jpeg\r\n",
      "102018.jpeg\t\t  10302305x1121354_zm.jpeg  10334292x1013997_zm.jpeg\r\n",
      "10207377x1012295_zm.jpeg  10302530x1039264_zm.jpeg  10334292x1068072_zm.jpeg\r\n",
      "10207377x1012905_zm.jpeg  10302530x1050984_zm.jpeg  10334292x1130321_zm.jpeg\r\n",
      "10207377x1013311_zm.jpeg  10302530x1058060_zm.jpeg  10334353x1012905_zm.jpeg\r\n",
      "10207377x1037244_zm.jpeg  10302530x1122004_zm.jpeg  10334353x1123004_zm.jpeg\r\n",
      "10207377x1130332_zm.jpeg  10302530x1147413_zm.jpeg  10334353x1144016_zm.jpeg\r\n",
      "10207449x1011204_zm.jpeg  10302867x1050984_zm.jpeg  10337690x1012905_zm.jpeg\r\n",
      "10207449x1012905_zm.jpeg  10302867x1058060_zm.jpeg  10337690x1013055_zm.jpeg\r\n",
      "10207449x1013997_zm.jpeg  10302867x1087139_zm.jpeg  10337690x1013583_zm.jpeg\r\n",
      "10207449x1050283_zm.jpeg  10302867x1150402_zm.jpeg  10337690x1023871_zm.jpeg\r\n",
      "10207449x1078442_zm.jpeg  10302867x1150787_zm.jpeg  10337690x1043102_zm.jpeg\r\n",
      "10214105x1012870_zm.jpeg  10304249x1012905_zm.jpeg  10342598x1012905_zm.jpeg\r\n",
      "10214105x1012905_zm.jpeg  10304249x1016191_zm.jpeg  10342598x1015986_zm.jpeg\r\n",
      "10214105x1013039_zm.jpeg  10305872x1012905_zm.jpeg  10342598x1149124_zm.jpeg\r\n",
      "10214105x1048213_zm.jpeg  10305872x1013634_zm.jpeg  10342599x1014140_zm.jpeg\r\n",
      "10214106x1010868_zm.jpeg  10312590x1012905_zm.jpeg  10342599x1069414_zm.jpeg\r\n",
      "10214106x1012234_zm.jpeg  10312590x1044494_zm.jpeg  10342599x1128689_zm.jpeg\r\n",
      "10214106x1012905_zm.jpeg  10312590x1149778_zm.jpeg  10342599x1149060_zm.jpeg\r\n",
      "10214106x1037134_zm.jpeg  10312717x1012905_zm.jpeg  10343683x1012905_zm.jpeg\r\n",
      "10214106x1152818_zm.jpeg  10312717x1044494_zm.jpeg  10343683x1067347_zm.jpeg\r\n",
      "10217842x1036924_zm.jpeg  10313191x1012905_zm.jpeg  10343683x1076923_zm.jpeg\r\n",
      "10217842x1043293_zm.jpeg  10313191x1121354_zm.jpeg  10343771x1012905_zm.jpeg\r\n",
      "10217842x1075992_zm.jpeg  10313191x1128654_zm.jpeg  10343771x1037423_zm.jpeg\r\n",
      "10217842x1095790_zm.jpeg  10313297x1012425_zm.jpeg  10343771x1067347_zm.jpeg\r\n",
      "10220010x1012905_zm.jpeg  10313297x1012905_zm.jpeg  10343771x1149691_zm.jpeg\r\n",
      "10220010x1043346_zm.jpeg  10313297x1149124_zm.jpeg  10343772x1012905_zm.jpeg\r\n",
      "10220010x1100878_zm.jpeg  10313298x1037114_zm.jpeg  10343772x1020558_zm.jpeg\r\n",
      "10220010x1140544_zm.jpeg  10313298x1120209_zm.jpeg  10343772x1149670_zm.jpeg\r\n",
      "10220010x1149099_zm.jpeg  10313301x1011296_zm.jpeg  10343998x1012905_zm.jpeg\r\n",
      "10220015x1012959_zm.jpeg  10313301x1012798_zm.jpeg  10343998x1043087_zm.jpeg\r\n",
      "10220015x1107525_zm.jpeg  10313301x1012905_zm.jpeg  10345237x1036949_zm.jpeg\r\n",
      "10220015x1128779_zm.jpeg  10313301x1118348_zm.jpeg  10345237x1048963_zm.jpeg\r\n",
      "10220099x1012905_zm.jpeg  10313301x1140544_zm.jpeg  10345238x1048963_zm.jpeg\r\n",
      "10220099x1016367_zm.jpeg  10313302x1012798_zm.jpeg  10345238x1151063_zm.jpeg\r\n",
      "10220099x1043346_zm.jpeg  10313302x1030283_zm.jpeg  10345306x1012905_zm.jpeg\r\n",
      "10226541x1012905_zm.jpeg  10313302x1120209_zm.jpeg  10345306x1057989_zm.jpeg\r\n",
      "10226541x1036954_zm.jpeg  10313302x1128790_zm.jpeg  10345306x1071771_zm.jpeg\r\n",
      "10237213x1011463_zm.jpeg  10313318x1011296_zm.jpeg  10345306x1118258_zm.jpeg\r\n",
      "10237213x1012905_zm.jpeg  10313318x1012905_zm.jpeg  10345307x1012400_zm.jpeg\r\n",
      "10237213x1107866_zm.jpeg  10313318x1063463_zm.jpeg  10345307x1083191_zm.jpeg\r\n",
      "10237213x1120901_zm.jpeg  10313318x1140544_zm.jpeg  10345307x1141723_zm.jpeg\r\n",
      "10237213x1151124_zm.jpeg  10313319x1035919_zm.jpeg  10346605x1039107_zm.jpeg\r\n",
      "10237214x1012905_zm.jpeg  10313319x1128689_zm.jpeg  10346605x1151920_zm.jpeg\r\n",
      "10237214x1037243_zm.jpeg  10313319x1128738_zm.jpeg  10349576x1012905_zm.jpeg\r\n",
      "10237214x1107866_zm.jpeg  10313319x1149069_zm.jpeg  10349576x1047360_zm.jpeg\r\n",
      "10237214x1141696_zm.jpeg  10313470x1012905_zm.jpeg  10349576x1068136_zm.jpeg\r\n",
      "10237598x1012511_zm.jpeg  10313470x1128738_zm.jpeg  10349576x1110709_zm.jpeg\r\n",
      "10237598x1012870_zm.jpeg  10313470x1128739_zm.jpeg  10349576x1152327_zm.jpeg\r\n",
      "10237598x1039510_zm.jpeg  10313471x1006424_zm.jpeg  10349728x1011578_zm.jpeg\r\n",
      "10237625x1013303_zm.jpeg  10313471x1012905_zm.jpeg  10349728x1012905_zm.jpeg\r\n",
      "10237625x1068072_zm.jpeg  10313471x1050117_zm.jpeg  10349728x1043201_zm.jpeg\r\n",
      "10245195x1012905_zm.jpeg  10313471x1120152_zm.jpeg  10349728x1047360_zm.jpeg\r\n",
      "10245195x1077158_zm.jpeg  10317470x1131870_zm.jpeg  10349728x1068136_zm.jpeg\r\n",
      "10245195x1079256_zm.jpeg  10317470x1131879_zm.jpeg  10349749x1012905_zm.jpeg\r\n",
      "10245195x1152818_zm.jpeg  10317470x1131895_zm.jpeg  10349749x1046309_zm.jpeg\r\n",
      "10245196x1010868_zm.jpeg  10317470x1152153_zm.jpeg  10349749x1072641_zm.jpeg\r\n",
      "10245196x1012905_zm.jpeg  10317665x1012245_zm.jpeg  10349749x1103823_zm.jpeg\r\n",
      "10245196x1152818_zm.jpeg  10317665x1012905_zm.jpeg  10349749x1154847_zm.jpeg\r\n",
      "10251194x1012425_zm.jpeg  10318268x1012905_zm.jpeg  10349909x1012905_zm.jpeg\r\n",
      "10251194x1108041_zm.jpeg  10318268x1013059_zm.jpeg  10349909x1058035_zm.jpeg\r\n",
      "10251194x1140551_zm.jpeg  10318268x1039132_zm.jpeg  10349909x1063978_zm.jpeg\r\n",
      "10252945x1012905_zm.jpeg  10318268x1151910_zm.jpeg  10349909x1154301_zm.jpeg\r\n",
      "10252945x1076672_zm.jpeg  10320632x1012379_zm.jpeg  10350132x1012905_zm.jpeg\r\n",
      "10252945x1076923_zm.jpeg  10320632x1012905_zm.jpeg  10350132x1086340_zm.jpeg\r\n",
      "10254722x1012905_zm.jpeg  10320632x1013649_zm.jpeg  10350132x1154394_zm.jpeg\r\n",
      "10254722x1114321_zm.jpeg  10320632x1060335_zm.jpeg  10350138x1155202_zm.jpeg\r\n",
      "10269570x1012905_zm.jpeg  10324178x1136649_zm.jpeg  10350139x1155202_zm.jpeg\r\n",
      "10269570x1013253_zm.jpeg  10329536x1012425_zm.jpeg  10350143x1012905_zm.jpeg\r\n",
      "10269570x1037095_zm.jpeg  10329536x1128779_zm.jpeg  10350143x1034282_zm.jpeg\r\n",
      "10269570x1140758_zm.jpeg  10329536x1140551_zm.jpeg  10350143x1158212_zm.jpeg\r\n",
      "10269634x1012905_zm.jpeg  10329537x1035919_zm.jpeg  10354021x1011059_zm.jpeg\r\n",
      "10269634x1063631_zm.jpeg  10329537x1120209_zm.jpeg  10354021x1084046_zm.jpeg\r\n",
      "10269634x1140754_zm.jpeg  10329538x1081067_zm.jpeg  10354021x1104546_zm.jpeg\r\n",
      "10269657x1012905_zm.jpeg  10329538x1128689_zm.jpeg  10357292x1011831_zm.jpeg\r\n",
      "10269657x1037095_zm.jpeg  10329538x1128738_zm.jpeg  10359422x1006424_zm.jpeg\r\n",
      "10269657x1110654_zm.jpeg  10329549x1012798_zm.jpeg  10359422x1112774_zm.jpeg\r\n",
      "10269657x1110671_zm.jpeg  10329549x1012905_zm.jpeg  10359437x1014587_zm.jpeg\r\n",
      "10269657x1140767_zm.jpeg  10329549x1013684_zm.jpeg  10359437x1046309_zm.jpeg\r\n",
      "10280744x1151124_zm.jpeg  10329549x1068533_zm.jpeg  10374825x1010913_zm.jpeg\r\n",
      "10280745x1038140_zm.jpeg  10329549x1140544_zm.jpeg  10374825x1169591_zm.jpeg\r\n",
      "10280745x1044757_zm.jpeg  10329963x1012905_zm.jpeg  10374826x1011484_zm.jpeg\r\n",
      "10280745x1151214_zm.jpeg  10329963x1037118_zm.jpeg  10374826x1169591_zm.jpeg\r\n",
      "10280785x1012400_zm.jpeg  10329963x1110671_zm.jpeg  104837.jpeg\r\n",
      "10280785x1040165_zm.jpeg  10329963x1140770_zm.jpeg  106260.jpeg\r\n",
      "10280785x1141723_zm.jpeg  10329963x1149142_zm.jpeg  108785.jpeg\r\n",
      "10281158x1012905_zm.jpeg  10329964x1012905_zm.jpeg  110026.jpeg\r\n",
      "10281158x1093375_zm.jpeg  10329964x1020626_zm.jpeg  110630.jpeg\r\n",
      "10281158x1128706_zm.jpeg  10329964x1038429_zm.jpeg  110709.jpeg\r\n",
      "10281158x1128790_zm.jpeg  10329964x1106755_zm.jpeg  111417.jpeg\r\n",
      "10281232x1012425_zm.jpeg  10329964x1140756_zm.jpeg  111875.jpeg\r\n",
      "10281232x1012905_zm.jpeg  10330031x1011144_zm.jpeg  111876.jpeg\r\n",
      "10281233x1045400_zm.jpeg  10330031x1012905_zm.jpeg  112030.jpeg\r\n",
      "10281233x1128689_zm.jpeg  10330031x1063631_zm.jpeg  112126.jpeg\r\n",
      "10281233x1128790_zm.jpeg  10330031x1110654_zm.jpeg  112127.jpeg\r\n",
      "10281233x1149113_zm.jpeg  10330031x1149168_zm.jpeg  112128.jpeg\r\n",
      "10281281x1012905_zm.jpeg  10330048x1011645_zm.jpeg  117218.jpeg\r\n",
      "10281281x1149124_zm.jpeg  10330053x1011209_zm.jpeg  117497.jpeg\r\n",
      "10281292x1128690_zm.jpeg  10330053x1011645_zm.jpeg  118014.jpeg\r\n",
      "10281292x1128790_zm.jpeg  10330053x1079057_zm.jpeg  118016.jpeg\r\n",
      "10281309x1011177_zm.jpeg  10330309x1012905_zm.jpeg  119214.jpeg\r\n",
      "10281309x1012905_zm.jpeg  10330309x1037423_zm.jpeg  120634.jpeg\r\n",
      "10281309x1140544_zm.jpeg  10330309x1067347_zm.jpeg  120635.jpeg\r\n",
      "10281309x1149086_zm.jpeg  10330309x1149711_zm.jpeg  121398.jpeg\r\n",
      "10281310x1149113_zm.jpeg  10330310x1012905_zm.jpeg  121966.jpeg\r\n",
      "10281311x1012512_zm.jpeg  10330310x1037423_zm.jpeg  124431.jpeg\r\n",
      "10281311x1012905_zm.jpeg  10330310x1090156_zm.jpeg  762351.jpeg\r\n",
      "10281311x1027657_zm.jpeg  10330310x1140867_zm.jpeg  845409.jpeg\r\n",
      "10281756x1090156_zm.jpeg  10330310x1149856_zm.jpeg  859978.jpeg\r\n",
      "10281756x1108328_zm.jpeg  10330387x1064322_zm.jpeg  863364.jpeg\r\n",
      "10281756x1149691_zm.jpeg  10330387x1094207_zm.jpeg  866781.jpeg\r\n",
      "10281756x1149856_zm.jpeg  10330387x1128450_zm.jpeg  880692.jpeg\r\n",
      "10281830x1012905_zm.jpeg  10330465x1038337_zm.jpeg  880722.jpeg\r\n",
      "10281830x1149691_zm.jpeg  10330579x1012905_zm.jpeg  880723.jpeg\r\n",
      "10281830x1149776_zm.jpeg  10330579x1076923_zm.jpeg  880724.jpeg\r\n",
      "10291507x1012905_zm.jpeg  10330579x1140836_zm.jpeg  884542.jpeg\r\n",
      "10291507x1038050_zm.jpeg  10330580x1012905_zm.jpeg  887388.jpeg\r\n",
      "10291507x1039132_zm.jpeg  10330580x1140867_zm.jpeg  892141.jpeg\r\n",
      "10291507x1042015_zm.jpeg  10331819x1011163_zm.jpeg  893230.jpeg\r\n",
      "10291507x1070726_zm.jpeg  10331819x1011957_zm.jpeg  894317.jpeg\r\n",
      "10296834x1012905_zm.jpeg  10331819x1012905_zm.jpeg  894338.jpeg\r\n",
      "10296834x1118322_zm.jpeg  10331819x1037367_zm.jpeg  894916.jpeg\r\n",
      "10296834x1118325_zm.jpeg  10331926x1038605_zm.jpeg  895322.jpeg\r\n",
      "10296834x1144178_zm.jpeg  10331926x1050984_zm.jpeg  895441.jpeg\r\n",
      "10298220x1125016_zm.jpeg  10331926x1084490_zm.jpeg  895794.jpeg\r\n",
      "10300351x1012905_zm.jpeg  10331926x1121979_zm.jpeg  896903.jpeg\r\n"
     ]
    }
   ],
   "source": [
    "!ls data/gear_images/hardshell_jackets/"
   ]
  },
  {
   "cell_type": "code",
   "execution_count": 12,
   "metadata": {},
   "outputs": [],
   "source": [
    "from azure.cognitiveservices.vision.customvision.training import training_api\n",
    "from azure.cognitiveservices.vision.customvision.training.models import ImageUrlCreateEntry"
   ]
  },
  {
   "cell_type": "code",
   "execution_count": 16,
   "metadata": {},
   "outputs": [],
   "source": [
    "# Replace with a valid key\n",
    "training_key = \"195f2c767e6c4ffc85fe2ac15ac5b320\"\n",
    "prediction_key = \"b67dcfc490e849499c8342bff96a5be9\"\n",
    "\n",
    "trainer = training_api.TrainingApi(training_key)"
   ]
  },
  {
   "cell_type": "code",
   "execution_count": 17,
   "metadata": {},
   "outputs": [],
   "source": [
    "project = trainer.create_project(\"openhack18\")"
   ]
  },
  {
   "cell_type": "code",
   "execution_count": 31,
   "metadata": {},
   "outputs": [],
   "source": [
    "hardshellJackets_tag = trainer.create_tag(project.id, \"hardshell-jackets\")\n",
    "insulatedJackets_tag = trainer.create_tag(project.id, \"insulated-jackets\")"
   ]
  },
  {
   "cell_type": "code",
   "execution_count": 24,
   "metadata": {},
   "outputs": [],
   "source": [
    "import os"
   ]
  },
  {
   "cell_type": "code",
   "execution_count": 39,
   "metadata": {},
   "outputs": [
    {
     "name": "stdout",
     "output_type": "stream",
     "text": [
      "Adding images...\n"
     ]
    }
   ],
   "source": [
    "base_image_url = \"data/gear_images/\"\n",
    "\n",
    "print (\"Adding images...\")\n",
    "for image_url in os.listdir(path=base_image_url+\"hardshell_jackets/\"):\n",
    "    with open(base_image_url+\"hardshell_jackets/\"+image_url, mode='rb') as img_data:\n",
    "        trainer.create_images_from_data(project.id, img_data, [ hardshellJackets_tag.id ])"
   ]
  },
  {
   "cell_type": "code",
   "execution_count": 40,
   "metadata": {},
   "outputs": [],
   "source": [
    "for image_url in os.listdir(path=base_image_url+\"insulated_jackets/\"):\n",
    "    with open(base_image_url+\"insulated_jackets/\"+image_url, mode='rb') as img_data:\n",
    "        trainer.create_images_from_data(project.id, img_data, [ insulatedJackets_tag.id ])"
   ]
  },
  {
   "cell_type": "markdown",
   "metadata": {},
   "source": [
    "### TRAIN"
   ]
  },
  {
   "cell_type": "code",
   "execution_count": 41,
   "metadata": {},
   "outputs": [
    {
     "name": "stdout",
     "output_type": "stream",
     "text": [
      "Training...\n",
      "Training status: Training\n",
      "Training status: Training\n",
      "Training status: Training\n",
      "Training status: Training\n",
      "Training status: Training\n",
      "Training status: Training\n",
      "Training status: Training\n",
      "Training status: Training\n",
      "Training status: Training\n",
      "Training status: Training\n",
      "Training status: Training\n",
      "Training status: Training\n",
      "Training status: Training\n",
      "Training status: Training\n",
      "Training status: Training\n",
      "Training status: Training\n",
      "Training status: Training\n",
      "Training status: Training\n",
      "Training status: Training\n",
      "Training status: Training\n",
      "Training status: Completed\n",
      "Done!\n"
     ]
    }
   ],
   "source": [
    "import time\n",
    "\n",
    "print (\"Training...\")\n",
    "iteration = trainer.train_project(project.id)\n",
    "while (iteration.status != \"Completed\"):\n",
    "    iteration = trainer.get_iteration(project.id, iteration.id)\n",
    "    print (\"Training status: \" + iteration.status)\n",
    "    time.sleep(1)\n",
    "\n",
    "# The iteration is now trained. Make it the default project endpoint\n",
    "trainer.update_iteration(project.id, iteration.id, is_default=True)\n",
    "print (\"Done!\")"
   ]
  },
  {
   "cell_type": "markdown",
   "metadata": {},
   "source": [
    "### Predictions"
   ]
  },
  {
   "cell_type": "code",
   "execution_count": 42,
   "metadata": {},
   "outputs": [],
   "source": [
    "from azure.cognitiveservices.vision.customvision.prediction import prediction_endpoint\n",
    "from azure.cognitiveservices.vision.customvision.prediction.prediction_endpoint import models"
   ]
  },
  {
   "cell_type": "code",
   "execution_count": 46,
   "metadata": {},
   "outputs": [
    {
     "name": "stdout",
     "output_type": "stream",
     "text": [
      "\tinsulated-jackets: 100.00%\n",
      "\thardshell-jackets: 0.00%\n"
     ]
    }
   ],
   "source": [
    "# Now there is a trained endpoint that can be used to make a prediction\n",
    "\n",
    "predictor = prediction_endpoint.PredictionEndpoint(prediction_key)\n",
    "\n",
    "\n",
    "# insulated test\n",
    "test_img_url = \"https://image.sportsmansguide.com/adimgs/l/6/673942i3_ts.jpg\"\n",
    "results = predictor.predict_image_url(project.id, iteration.id, url=test_img_url)\n",
    "\n",
    "# Alternatively, if the images were on disk in a folder called Images alongside the sample.py, then\n",
    "# they can be added by using the following.\n",
    "#\n",
    "# Open the sample image and get back the prediction results.\n",
    "# with open(\"Images\\\\test\\\\test_image.jpg\", mode=\"rb\") as test_data:\n",
    "#     results = predictor.predict_image(project.id, test_data, iteration.id)\n",
    "\n",
    "# Display the results.\n",
    "for prediction in results.predictions:\n",
    "    print (\"\\t\" + prediction.tag_name + \": {0:.2f}%\".format(prediction.probability * 100))"
   ]
  },
  {
   "cell_type": "code",
   "execution_count": 47,
   "metadata": {},
   "outputs": [
    {
     "name": "stdout",
     "output_type": "stream",
     "text": [
      "\thardshell-jackets: 93.92%\n",
      "\tinsulated-jackets: 1.53%\n"
     ]
    }
   ],
   "source": [
    "# Now there is a trained endpoint that can be used to make a prediction\n",
    "\n",
    "predictor = prediction_endpoint.PredictionEndpoint(prediction_key)\n",
    "\n",
    "\n",
    "# hardshell test\n",
    "test_img_url = \"https://cdn.hiconsumption.com/wp-content/uploads/2015/12/Westcomb-Shift-LT-Hoodie-Jacket.jpeg\"\n",
    "results = predictor.predict_image_url(project.id, iteration.id, url=test_img_url)\n",
    "\n",
    "# Alternatively, if the images were on disk in a folder called Images alongside the sample.py, then\n",
    "# they can be added by using the following.\n",
    "#\n",
    "# Open the sample image and get back the prediction results.\n",
    "# with open(\"Images\\\\test\\\\test_image.jpg\", mode=\"rb\") as test_data:\n",
    "#     results = predictor.predict_image(project.id, test_data, iteration.id)\n",
    "\n",
    "# Display the results.\n",
    "for prediction in results.predictions:\n",
    "    print (\"\\t\" + prediction.tag_name + \": {0:.2f}%\".format(prediction.probability * 100))\n"
   ]
  }
 ],
 "metadata": {
  "kernelspec": {
   "display_name": "Python [conda env:py35]",
   "language": "python",
   "name": "conda-env-py35-py"
  },
  "language_info": {
   "codemirror_mode": {
    "name": "ipython",
    "version": 3
   },
   "file_extension": ".py",
   "mimetype": "text/x-python",
   "name": "python",
   "nbconvert_exporter": "python",
   "pygments_lexer": "ipython3",
   "version": "3.5.5"
  }
 },
 "nbformat": 4,
 "nbformat_minor": 2
}
