{
 "cells": [
  {
   "cell_type": "code",
   "execution_count": 5,
   "metadata": {},
   "outputs": [
    {
     "name": "stdout",
     "output_type": "stream",
     "text": [
      "Requirement already satisfied: requests in /data/anaconda/envs/py35/lib/python3.5/site-packages (2.18.4)\n",
      "Requirement already satisfied: urllib3<1.23,>=1.21.1 in /data/anaconda/envs/py35/lib/python3.5/site-packages (from requests) (1.22)\n",
      "Requirement already satisfied: chardet<3.1.0,>=3.0.2 in /data/anaconda/envs/py35/lib/python3.5/site-packages (from requests) (3.0.4)\n",
      "Requirement already satisfied: idna<2.7,>=2.5 in /data/anaconda/envs/py35/lib/python3.5/site-packages (from requests) (2.6)\n",
      "Requirement already satisfied: certifi>=2017.4.17 in /data/anaconda/envs/py35/lib/python3.5/site-packages (from requests) (2018.8.24)\n",
      "\u001b[33mYou are using pip version 18.0, however version 18.1 is available.\n",
      "You should consider upgrading via the 'pip install --upgrade pip' command.\u001b[0m\n"
     ]
    }
   ],
   "source": [
    "!pip install requests"
   ]
  },
  {
   "cell_type": "markdown",
   "metadata": {},
   "source": [
    "##Data vizualization"
   ]
  },
  {
   "cell_type": "code",
   "execution_count": 6,
   "metadata": {},
   "outputs": [
    {
     "name": "stdout",
     "output_type": "stream",
     "text": [
      "Requirement already satisfied: azure-cognitiveservices-vision-customvision in /data/anaconda/envs/py35/lib/python3.5/site-packages (0.3.0)\n",
      "Requirement already satisfied: azure-common~=1.1 in /data/anaconda/envs/py35/lib/python3.5/site-packages (from azure-cognitiveservices-vision-customvision) (1.1.15)\n",
      "Requirement already satisfied: azure-cognitiveservices-vision-nspkg>=2.0.0 in /data/anaconda/envs/py35/lib/python3.5/site-packages (from azure-cognitiveservices-vision-customvision) (2.0.0)\n",
      "Requirement already satisfied: msrest<2.0.0,>=0.4.28 in /data/anaconda/envs/py35/lib/python3.5/site-packages (from azure-cognitiveservices-vision-customvision) (0.5.5)\n",
      "Requirement already satisfied: azure-nspkg>=2.0.0 in /data/anaconda/envs/py35/lib/python3.5/site-packages (from azure-common~=1.1->azure-cognitiveservices-vision-customvision) (2.0.0)\n",
      "Requirement already satisfied: azure-cognitiveservices-nspkg>=2.0.0 in /data/anaconda/envs/py35/lib/python3.5/site-packages (from azure-cognitiveservices-vision-nspkg>=2.0.0->azure-cognitiveservices-vision-customvision) (2.0.0)\n",
      "Requirement already satisfied: requests~=2.16 in /data/anaconda/envs/py35/lib/python3.5/site-packages (from msrest<2.0.0,>=0.4.28->azure-cognitiveservices-vision-customvision) (2.18.4)\n",
      "Requirement already satisfied: certifi>=2017.4.17 in /data/anaconda/envs/py35/lib/python3.5/site-packages (from msrest<2.0.0,>=0.4.28->azure-cognitiveservices-vision-customvision) (2018.8.24)\n",
      "Requirement already satisfied: isodate>=0.6.0 in /data/anaconda/envs/py35/lib/python3.5/site-packages (from msrest<2.0.0,>=0.4.28->azure-cognitiveservices-vision-customvision) (0.6.0)\n",
      "Requirement already satisfied: requests-oauthlib>=0.5.0 in /data/anaconda/envs/py35/lib/python3.5/site-packages (from msrest<2.0.0,>=0.4.28->azure-cognitiveservices-vision-customvision) (1.0.0)\n",
      "Requirement already satisfied: chardet<3.1.0,>=3.0.2 in /data/anaconda/envs/py35/lib/python3.5/site-packages (from requests~=2.16->msrest<2.0.0,>=0.4.28->azure-cognitiveservices-vision-customvision) (3.0.4)\n",
      "Requirement already satisfied: urllib3<1.23,>=1.21.1 in /data/anaconda/envs/py35/lib/python3.5/site-packages (from requests~=2.16->msrest<2.0.0,>=0.4.28->azure-cognitiveservices-vision-customvision) (1.22)\n",
      "Requirement already satisfied: idna<2.7,>=2.5 in /data/anaconda/envs/py35/lib/python3.5/site-packages (from requests~=2.16->msrest<2.0.0,>=0.4.28->azure-cognitiveservices-vision-customvision) (2.6)\n",
      "Requirement already satisfied: six in /data/anaconda/envs/py35/lib/python3.5/site-packages (from isodate>=0.6.0->msrest<2.0.0,>=0.4.28->azure-cognitiveservices-vision-customvision) (1.11.0)\n",
      "Requirement already satisfied: oauthlib>=0.6.2 in /data/anaconda/envs/py35/lib/python3.5/site-packages (from requests-oauthlib>=0.5.0->msrest<2.0.0,>=0.4.28->azure-cognitiveservices-vision-customvision) (2.1.0)\n",
      "\u001b[33mYou are using pip version 18.0, however version 18.1 is available.\n",
      "You should consider upgrading via the 'pip install --upgrade pip' command.\u001b[0m\n"
     ]
    }
   ],
   "source": [
    "!pip install azure-cognitiveservices-vision-customvision"
   ]
  },
  {
   "cell_type": "code",
   "execution_count": 15,
   "metadata": {},
   "outputs": [
    {
     "name": "stdout",
     "output_type": "stream",
     "text": [
      "Creating project...\n"
     ]
    }
   ],
   "source": [
    "from azure.cognitiveservices.vision.customvision.training import training_api\n",
    "from azure.cognitiveservices.vision.customvision.training.models import ImageUrlCreateEntry\n",
    "\n",
    "# Replace with a valid key\n",
    "training_key = \"ad4f1a6056754218be454e19740fc7d6\"\n",
    "prediction_key = \"67576df71b704a278685868494d0229c\"\n",
    "\n",
    "trainer = training_api.TrainingApi(training_key)\n",
    "\n",
    "# Create a new project\n",
    "print (\"Creating project...\")\n",
    "project = trainer.create_project(\"Challenge-1\")"
   ]
  },
  {
   "cell_type": "code",
   "execution_count": 16,
   "metadata": {},
   "outputs": [],
   "source": [
    "# Make two tags in the new project\n",
    "hemlock_tag = trainer.create_tag(project.id, \"hardshell-jacket\")\n",
    "cherry_tag = trainer.create_tag(project.id, \"insulated-jacket\")"
   ]
  },
  {
   "cell_type": "code",
   "execution_count": 17,
   "metadata": {},
   "outputs": [],
   "source": [
    "import os\n",
    "hemlock_dir = \"data/gear_images/hardshell_jackets\"\n",
    "for image in os.listdir(os.fsencode(\"data/gear_images/hardshell_jackets\")):\n",
    "    with open(hemlock_dir + \"/\" + os.fsdecode(image), mode=\"rb\") as img_data: \n",
    "        trainer.create_images_from_data(project.id, img_data, [ hemlock_tag.id ])\n",
    "\n",
    "cherry_dir = \"data/gear_images/insulated_jackets\"\n",
    "for image in os.listdir(os.fsencode(\"data/gear_images/insulated_jackets\")):\n",
    "    with open(cherry_dir + \"/\" + os.fsdecode(image), mode=\"rb\") as img_data: \n",
    "        trainer.create_images_from_data(project.id, img_data, [ cherry_tag.id ])"
   ]
  },
  {
   "cell_type": "code",
   "execution_count": 18,
   "metadata": {},
   "outputs": [
    {
     "name": "stdout",
     "output_type": "stream",
     "text": [
      "Training...\n",
      "Training status: Training\n",
      "Training status: Training\n",
      "Training status: Training\n",
      "Training status: Training\n",
      "Training status: Training\n",
      "Training status: Training\n",
      "Training status: Training\n",
      "Training status: Training\n",
      "Training status: Training\n",
      "Training status: Training\n",
      "Training status: Completed\n",
      "Done!\n"
     ]
    }
   ],
   "source": [
    "import time\n",
    "\n",
    "print (\"Training...\")\n",
    "iteration = trainer.train_project(project.id)\n",
    "while (iteration.status != \"Completed\"):\n",
    "    iteration = trainer.get_iteration(project.id, iteration.id)\n",
    "    print (\"Training status: \" + iteration.status)\n",
    "    time.sleep(1)\n",
    "\n",
    "# The iteration is now trained. Make it the default project endpoint\n",
    "trainer.update_iteration(project.id, iteration.id, is_default=True)\n",
    "print (\"Done!\")"
   ]
  },
  {
   "cell_type": "code",
   "execution_count": 31,
   "metadata": {},
   "outputs": [
    {
     "name": "stdout",
     "output_type": "stream",
     "text": [
      "\tinsulated-jacket: 99.97%\n",
      "Solution: insulated\n",
      "\thardshell-jacket: 0.01%\n",
      "Solution: insulated\n"
     ]
    }
   ],
   "source": [
    "from azure.cognitiveservices.vision.customvision.prediction import prediction_endpoint\n",
    "from azure.cognitiveservices.vision.customvision.prediction.prediction_endpoint import models\n",
    "\n",
    "# Now there is a trained endpoint that can be used to make a prediction\n",
    "\n",
    "predictor = prediction_endpoint.PredictionEndpoint(prediction_key)\n",
    "\n",
    "test_img_url = \"https://cdn.shopify.com/s/files/1/0108/7802/products/manning-9-1205413.jpg?v=1506516432\"\n",
    "results = predictor.predict_image_url(project.id, iteration.id, url=test_img_url)\n",
    "\n",
    "\n",
    "# Display the results.\n",
    "for prediction in results.predictions:\n",
    "    print (\"\\t\" + prediction.tag_name + \": {0:.2f}%\".format(prediction.probability * 100))\n",
    "    print('Solution: insulated')\n"
   ]
  },
  {
   "cell_type": "code",
   "execution_count": 23,
   "metadata": {},
   "outputs": [
    {
     "data": {
      "text/plain": [
       "'3bd80196-bf67-42e6-8ea0-1512eb7ebd78'"
      ]
     },
     "execution_count": 23,
     "metadata": {},
     "output_type": "execute_result"
    }
   ],
   "source": [
    "project.id"
   ]
  },
  {
   "cell_type": "code",
   "execution_count": null,
   "metadata": {},
   "outputs": [],
   "source": []
  }
 ],
 "metadata": {
  "kernelspec": {
   "display_name": "Python [conda env:py35]",
   "language": "python",
   "name": "conda-env-py35-py"
  },
  "language_info": {
   "codemirror_mode": {
    "name": "ipython",
    "version": 3
   },
   "file_extension": ".py",
   "mimetype": "text/x-python",
   "name": "python",
   "nbconvert_exporter": "python",
   "pygments_lexer": "ipython3",
   "version": "3.5.5"
  }
 },
 "nbformat": 4,
 "nbformat_minor": 2
}
