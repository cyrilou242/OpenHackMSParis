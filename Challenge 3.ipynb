{
 "cells": [
  {
   "cell_type": "code",
   "execution_count": 27,
   "metadata": {},
   "outputs": [],
   "source": [
    "import sklearn\n",
    "import numpy as np\n",
    "import pandas as pd\n",
    "import os"
   ]
  },
  {
   "cell_type": "code",
   "execution_count": 5,
   "metadata": {
    "scrolled": true
   },
   "outputs": [],
   "source": [
    "gears_category = os.listdir('output_challenge2')\n",
    "gears_category.remove('.ipynb_checkpoints')"
   ]
  },
  {
   "cell_type": "code",
   "execution_count": 22,
   "metadata": {},
   "outputs": [
    {
     "name": "stdout",
     "output_type": "stream",
     "text": [
      "harnesses_transformed\n",
      "tents_transformed\n",
      "gloves_transformed\n",
      "hardshell_jackets_transformed\n",
      "pulleys_transformed\n",
      "carabiners_transformed\n",
      "boots_transformed\n",
      "rope_transformed\n",
      "helmets_transformed\n",
      "axes_transformed\n",
      "insulated_jackets_transformed\n",
      "crampons_transformed\n"
     ]
    }
   ],
   "source": [
    "target_array = []\n",
    "images_array = []\n",
    "\n",
    "for category in gears_category:\n",
    "    print(category)\n",
    "    for item in os.listdir('output_challenge2/' + category):\n",
    "        target_array.append(category)\n",
    "        array = np.fromfile('/'.join(['output_challenge2', category, item]), dtype='uint8')\n",
    "        array_flat = array.flatten()\n",
    "        images_array.append(array_flat)"
   ]
  },
  {
   "cell_type": "code",
   "execution_count": 25,
   "metadata": {},
   "outputs": [
    {
     "data": {
      "text/plain": [
       "((49152,), 49152)"
      ]
     },
     "execution_count": 25,
     "metadata": {},
     "output_type": "execute_result"
    }
   ],
   "source": [
    "images_array[0].shape, 128*128*3"
   ]
  },
  {
   "cell_type": "code",
   "execution_count": 61,
   "metadata": {},
   "outputs": [],
   "source": [
    "from sklearn.model_selection import train_test_split\n",
    "\n",
    "X_train, X_val, y_train, y_val = train_test_split(np.array(images_array), target_array, )"
   ]
  },
  {
   "cell_type": "code",
   "execution_count": 62,
   "metadata": {},
   "outputs": [
    {
     "data": {
      "text/plain": [
       "((1591, 49152), (531, 49152), 1591, 531)"
      ]
     },
     "execution_count": 62,
     "metadata": {},
     "output_type": "execute_result"
    }
   ],
   "source": [
    "X_train.shape, X_val.shape, len(y_train), len(y_val)"
   ]
  },
  {
   "cell_type": "code",
   "execution_count": 63,
   "metadata": {},
   "outputs": [],
   "source": [
    "from collections import Counter\n",
    "awesome_array = np.array(list(Counter(y_val).values()))/np.sum(list(Counter(y_val).values())) - np.array(list(Counter(y_train).values()))/np.sum(list(Counter(y_train).values()))\n",
    "\n",
    "assert(np.max(awesome_array)<0.05)"
   ]
  },
  {
   "cell_type": "code",
   "execution_count": 67,
   "metadata": {},
   "outputs": [],
   "source": [
    "from sklearn.neighbors import KNeighborsClassifier\n",
    "\n",
    "knn = KNeighborsClassifier()\n",
    "\n",
    "knn.fit(X_train, y_train)\n",
    "\n",
    "prediction = knn.predict(X_val)"
   ]
  },
  {
   "cell_type": "code",
   "execution_count": 68,
   "metadata": {},
   "outputs": [
    {
     "name": "stdout",
     "output_type": "stream",
     "text": [
      "[[ 21   0   0   2   0   0   0   0   0   0   0   0]\n",
      " [  0  27   0   0   0   0   0   0   0   0   0   0]\n",
      " [  0   1  59   0   0   0   0   0   0   0   2   3]\n",
      " [  0   1   0  24   0   0   0   0   1   0   0   5]\n",
      " [  0   0   0   0  54   3   0   0   0   0   2   0]\n",
      " [  0   0   0   0   0 101   0   0  13   0   0   0]\n",
      " [  0   0   0   0   2   1  42   0   0   0   2   1]\n",
      " [  0   0   0   0   0   0   0  18   2   0   0   0]\n",
      " [  0   1   0   0   1  24   0   0  29   0   0   0]\n",
      " [  0   0   0   0   0   2   0   0   1   3   0   3]\n",
      " [  0   0   0   1   3   2   0   0   1   1  39   1]\n",
      " [  0   0   0   0   0   1   0   0   0   0   0  31]]\n",
      "0.8436911487758946\n"
     ]
    }
   ],
   "source": [
    "from sklearn.metrics import confusion_matrix, accuracy_score\n",
    "\n",
    "print(confusion_matrix(y_val, prediction))\n",
    "\n",
    "print(accuracy_score(y_val, prediction))"
   ]
  },
  {
   "cell_type": "code",
   "execution_count": null,
   "metadata": {},
   "outputs": [],
   "source": []
  }
 ],
 "metadata": {
  "kernelspec": {
   "display_name": "Python [conda env:py35]",
   "language": "python",
   "name": "conda-env-py35-py"
  },
  "language_info": {
   "codemirror_mode": {
    "name": "ipython",
    "version": 3
   },
   "file_extension": ".py",
   "mimetype": "text/x-python",
   "name": "python",
   "nbconvert_exporter": "python",
   "pygments_lexer": "ipython3",
   "version": "3.5.5"
  }
 },
 "nbformat": 4,
 "nbformat_minor": 2
}
